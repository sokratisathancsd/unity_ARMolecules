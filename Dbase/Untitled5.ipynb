{
  "nbformat": 4,
  "nbformat_minor": 0,
  "metadata": {
    "colab": {
      "name": "Untitled5.ipynb",
      "provenance": [],
      "collapsed_sections": []
    },
    "kernelspec": {
      "name": "python3",
      "display_name": "Python 3"
    },
    "language_info": {
      "name": "python"
    }
  },
  "cells": [
    {
      "cell_type": "code",
      "metadata": {
        "id": "nGVrb03U79IP"
      },
      "source": [
        "import os\n",
        "\n",
        "os.remove(\"ARMolecules.txt\")\n",
        "fo= open(\"ARMolecules.txt\",\"w+\")\n",
        "fi = open(\"TABSn.txt\", \"r+\")\n",
        "\n",
        "while True:\n",
        "  meta=[]\n",
        "  atoms=[]\n",
        "  xs=[]\n",
        "  ys=[]\n",
        "  zs=[]\n",
        "  meta.append(fi.readline()[1:])\n",
        "  for i in range(12):\n",
        "    meta.append(fi.readline())\n",
        "\n",
        "  num_atoms=fi.readline()\n",
        "  meta.append(num_atoms)\n",
        "  for i in range(int(num_atoms)):\n",
        "    atom = fi.readline().rstrip()\n",
        "    atoms.append(atom)\n",
        "  #print(atoms)\n",
        "  fi.readline()\n",
        "\n",
        "  #print('\\n')\n",
        "  for i in range(int(num_atoms)):\n",
        "    x = fi.readline().rstrip()\n",
        "    xs.append(x)\n",
        "  #print(xs)\n",
        "  fi.readline()\n",
        "\n",
        "  #print('\\n')\n",
        "  for i in range(int(num_atoms)):\n",
        "    y = fi.readline().rstrip()\n",
        "    ys.append(y)\n",
        "  #print(ys)\n",
        "  fi.readline()\n",
        "\n",
        "  #print('\\n')\n",
        "  for i in range(int(num_atoms)):\n",
        "    z = fi.readline().rstrip()\n",
        "    zs.append(z)\n",
        "  #print(zs)\n",
        "\n",
        "  #write metadata\n",
        "  for m in meta:\n",
        "    fo.write(m)\n",
        "  for i in range(int(num_atoms)):\n",
        "    fo.write(atoms[i]+\" \"+xs[i]+\" \"+ys[i]+\" \"+zs[i]+\"\\n\")\n",
        "  fo.write(\"\\n\")\n",
        "\n",
        "  line= fi.readline()\n",
        "  if not line:\n",
        "        break\n",
        "\n",
        "fo.close()\n",
        "fi.close()"
      ],
      "execution_count": 71,
      "outputs": []
    },
    {
      "cell_type": "code",
      "metadata": {
        "id": "jZoE_lJ29Ndn"
      },
      "source": [
        ""
      ],
      "execution_count": null,
      "outputs": []
    }
  ]
}